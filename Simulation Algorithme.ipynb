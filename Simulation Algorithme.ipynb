{
 "cells": [
  {
   "cell_type": "markdown",
   "metadata": {},
   "source": [
    "# Algo de choix"
   ]
  },
  {
   "cell_type": "markdown",
   "metadata": {},
   "source": [
    "Notebook de simulation, proof of concept et explication.\n",
    "On défini un cas d'usage, et le script repete l'assignation 10000 fois, du coup la probabilité d'être choisi pour chaque photographe = le pourcentage de fois où il a été choisi(approximativement mais l'erreur d'approximation est assez faible avec 10000 répétitions).\n"
   ]
  },
  {
   "cell_type": "markdown",
   "metadata": {},
   "source": [
    "## Imports (ignorer)"
   ]
  },
  {
   "cell_type": "code",
   "execution_count": 3,
   "metadata": {},
   "outputs": [],
   "source": [
    "%matplotlib inline\n",
    "\n",
    "import pandas as pd, numpy as np\n",
    "import random\n",
    "import matplotlib as mpl\n",
    "import matplotlib.pyplot as plt\n",
    "import seaborn as sns\n",
    "from algo_test import *\n",
    "\n",
    "sns.set()\n",
    "type_seance ='solo'"
   ]
  },
  {
   "cell_type": "markdown",
   "metadata": {},
   "source": [
    "# Principe de base et cas simpliste"
   ]
  },
  {
   "cell_type": "markdown",
   "metadata": {},
   "source": [
    "Le principe de base : si un photographe a une note X fois supérieure a un autre photographe, il a X fois plus de chance de se faire choisir.\n",
    "Par exemple, 2 photographes A et B, A a une note 2 fois supérieure a B"
   ]
  },
  {
   "cell_type": "code",
   "execution_count": 5,
   "metadata": {},
   "outputs": [
    {
     "name": "stdout",
     "output_type": "stream",
     "text": [
      "results\n"
     ]
    },
    {
     "data": {
      "image/png": "[encoded data removed]",
      "text/plain": [
       "<matplotlib.figure.Figure at 0x7f85ac191f60>"
      ]
     },
     "metadata": {},
     "output_type": "display_data"
    }
   ],
   "source": [
    "notes_photographes = {\n",
    "    'A':10,\n",
    "    'B':5,\n",
    "}\n",
    "##### IGNORE #####\n",
    "results = simulate(notes_photographes,n=100000)\n",
    "df = pd.DataFrame(data={'photographe':list(results.keys()),'assignations':list(results.values())}).sort_values('photographe')\n",
    "print('results')\n",
    "ax=sns.barplot(y='assignations',x='photographe',data=df,palette=sns.color_palette('hls',len(notes_photographes.keys())))\n",
    "autolabel(ax, labels=df.assignations.values, height_factor=1.02)\n"
   ]
  },
  {
   "cell_type": "markdown",
   "metadata": {},
   "source": [
    "Comme prévu, photographe A a été assigné 2 fois de plus que B. (vous pouvez varier les notes et rerun la cellule)\n",
    "\n",
    "Mais bon le concept a beau être simple, quand il y a plusieurs photographes, plusieurs coefficients (note_ever, coef de bonus proximité, coef de bonus préference type de seance"
   ]
  },
  {
   "cell_type": "markdown",
   "metadata": {},
   "source": [
    "# Calcul de la note et cas plus complexe"
   ]
  },
  {
   "cell_type": "markdown",
   "metadata": {},
   "source": [
    "Maintenant on ajoute le calcul de la note en fonction des paramètres.\n",
    "\n",
    "Les paramètres sont les suivants (pour l'instant):\n",
    " - **note_ever** la note manuelle que vous leur donnez (défaut 0)\n",
    " - **seance_adjacente** True si le photographe a une séance dans un créneau horaire adjacent à la séance à assigner (défaut False)\n",
    " - **seance_adjacente_2** Pareil mais pour une séance a 2h( par ex. la séance est a 14h et le photographe a déja une séance a 16h ou 12h) (défaut False)\n",
    " - **types_favoris** Type de séance favoris, pour la simulation j'ai jsute mis 2 types de séance, 'solo' et 'couple'.\n",
    "(défault ['solo','couple'])\n",
    "\n",
    "\n",
    "type de seance = 'solo' \n",
    "5 photographes, A,B,C,D,E.  \n",
    "A et B ont une déjà une séance dans un créneau horaire adjacent.  \n",
    "C a une séance dans un créneau horaire 2h plus tard(ou 2h avant).  \n",
    "D et E n'ont pas de séance ce jour. \n",
    "\n",
    "Ils sont definis comme ceci :"
   ]
  },
  {
   "cell_type": "code",
   "execution_count": 6,
   "metadata": {},
   "outputs": [],
   "source": [
    "photographes = {\n",
    "    'A':{'note_ever':10,'seance_adjacente':True,'types_favoris':['solo','couple']},\n",
    "    'B':{'note_ever':2,'seance_adjacente':True,'types_favoris':['solo','couple']},\n",
    "    'C':{'note_ever':10,'seance_adjacente':False,'seance_adjacente_2':True,'types_favoris':['couple']},\n",
    "    'D':{'note_ever':5,'seance_adjacente':False,'types_favoris':['solo','couple']},\n",
    "    'E':{'note_ever':10,'seance_adjacente':False,'types_favoris':['solo','couple']},\n",
    "} \n",
    "type_seance = 'solo'"
   ]
  },
  {
   "cell_type": "markdown",
   "metadata": {},
   "source": [
    "A partir de ces arguments, on a une fonction de calcul qui donne sa note finale à chaque photographe, c'est cette note qui détermine la probablité d'être assignée.  \n",
    "** Ce sont les paramètres de cette fonction que vous devez définir parce qu'ils seront fixes**\n",
    "\n",
    "\n",
    "Par exemple:\n",
    " - **seance_adjacente** donne une coef bonus x1.5\n",
    " - **seance_adjacente_2** donne un bonus de x1.2\n",
    " - Si le type de séance est dans **types_favoris**, bonus de x1.5\n",
    " \n",
    "Ce qui donne"
   ]
  },
  {
   "cell_type": "code",
   "execution_count": 9,
   "metadata": {},
   "outputs": [
    {
     "name": "stdout",
     "output_type": "stream",
     "text": [
      "A: 22.5\n",
      "B: 4.5\n",
      "C: 12.0\n",
      "D: 7.5\n",
      "E: 15.0\n"
     ]
    }
   ],
   "source": [
    "params = {\n",
    "    'seance_adjacente':1.5,\n",
    "    'seance_adjacente_2':1.2,\n",
    "    'type_favori':1.5\n",
    "}\n",
    "notes = calcul_notes_coef(photographes,type_seance,**params)\n",
    "##### IGNORE #####\n",
    "for key in sorted(notes.keys()):\n",
    "    print(\"%s: %s\" % (key, notes[key]/100.0))"
   ]
  },
  {
   "cell_type": "markdown",
   "metadata": {},
   "source": [
    "D'ou découle les probabilités d'assignations suivantes :"
   ]
  },
  {
   "cell_type": "code",
   "execution_count": 15,
   "metadata": {},
   "outputs": [
    {
     "name": "stdout",
     "output_type": "stream",
     "text": [
      "Photographes\n"
     ]
    },
    {
     "data": {
      "text/html": [
       "<div>\n",
       "<style>\n",
       "    .dataframe thead tr:only-child th {\n",
       "        text-align: right;\n",
       "    }\n",
       "\n",
       "    .dataframe thead th {\n",
       "        text-align: left;\n",
       "    }\n",
       "\n",
       "    .dataframe tbody tr th {\n",
       "        vertical-align: top;\n",
       "    }\n",
       "</style>\n",
       "<table border=\"1\" class=\"dataframe\">\n",
       "  <thead>\n",
       "    <tr style=\"text-align: right;\">\n",
       "      <th></th>\n",
       "      <th>A</th>\n",
       "      <th>B</th>\n",
       "      <th>C</th>\n",
       "      <th>D</th>\n",
       "      <th>E</th>\n",
       "    </tr>\n",
       "  </thead>\n",
       "  <tbody>\n",
       "    <tr>\n",
       "      <th>note_ever</th>\n",
       "      <td>10</td>\n",
       "      <td>5</td>\n",
       "      <td>10</td>\n",
       "      <td>5</td>\n",
       "      <td>10</td>\n",
       "    </tr>\n",
       "    <tr>\n",
       "      <th>seance_adjacente</th>\n",
       "      <td>True</td>\n",
       "      <td>True</td>\n",
       "      <td>False</td>\n",
       "      <td>False</td>\n",
       "      <td>False</td>\n",
       "    </tr>\n",
       "    <tr>\n",
       "      <th>seance_adjacente_2</th>\n",
       "      <td>False</td>\n",
       "      <td>False</td>\n",
       "      <td>True</td>\n",
       "      <td>False</td>\n",
       "      <td>False</td>\n",
       "    </tr>\n",
       "    <tr>\n",
       "      <th>types_favoris</th>\n",
       "      <td>[solo, couple]</td>\n",
       "      <td>[solo, couple]</td>\n",
       "      <td>[couple]</td>\n",
       "      <td>[couple]</td>\n",
       "      <td>[solo, couple]</td>\n",
       "    </tr>\n",
       "  </tbody>\n",
       "</table>\n",
       "</div>"
      ],
      "text/plain": [
       "                                 A               B         C         D  \\\n",
       "note_ever                       10               5        10         5   \n",
       "seance_adjacente              True            True     False     False   \n",
       "seance_adjacente_2           False           False      True     False   \n",
       "types_favoris       [solo, couple]  [solo, couple]  [couple]  [couple]   \n",
       "\n",
       "                                 E  \n",
       "note_ever                       10  \n",
       "seance_adjacente             False  \n",
       "seance_adjacente_2           False  \n",
       "types_favoris       [solo, couple]  "
      ]
     },
     "metadata": {},
     "output_type": "display_data"
    },
    {
     "name": "stdout",
     "output_type": "stream",
     "text": [
      "Paramètres\n"
     ]
    },
    {
     "data": {
      "text/html": [
       "<div>\n",
       "<style>\n",
       "    .dataframe thead tr:only-child th {\n",
       "        text-align: right;\n",
       "    }\n",
       "\n",
       "    .dataframe thead th {\n",
       "        text-align: left;\n",
       "    }\n",
       "\n",
       "    .dataframe tbody tr th {\n",
       "        vertical-align: top;\n",
       "    }\n",
       "</style>\n",
       "<table border=\"1\" class=\"dataframe\">\n",
       "  <thead>\n",
       "    <tr style=\"text-align: right;\">\n",
       "      <th></th>\n",
       "      <th>seance_adjacente</th>\n",
       "      <th>seance_adjacente_2</th>\n",
       "      <th>type_favori</th>\n",
       "    </tr>\n",
       "  </thead>\n",
       "  <tbody>\n",
       "    <tr>\n",
       "      <th>coef</th>\n",
       "      <td>1.5</td>\n",
       "      <td>1.2</td>\n",
       "      <td>1.5</td>\n",
       "    </tr>\n",
       "  </tbody>\n",
       "</table>\n",
       "</div>"
      ],
      "text/plain": [
       "      seance_adjacente  seance_adjacente_2  type_favori\n",
       "coef               1.5                 1.2          1.5"
      ]
     },
     "metadata": {},
     "output_type": "display_data"
    },
    {
     "data": {
      "image/png": "[encoded data removed]",
      "text/plain": [
       "<matplotlib.figure.Figure at 0x7f857b517940>"
      ]
     },
     "metadata": {},
     "output_type": "display_data"
    }
   ],
   "source": [
    "photographes = {\n",
    "    'A':{'note_ever':10,'seance_adjacente':True,'types_favoris':['solo','couple']},\n",
    "    'B':{'note_ever':5,'seance_adjacente':True,'types_favoris':['solo','couple']},\n",
    "    'C':{'note_ever':10,'seance_adjacente':False,'seance_adjacente_2':True,'types_favoris':['couple']},\n",
    "    'D':{'note_ever':5,'seance_adjacente':False,'types_favoris':['couple']},\n",
    "    'E':{'note_ever':10,'seance_adjacente':False,'types_favoris':['solo','couple']},\n",
    "} \n",
    "type_seance = 'solo'\n",
    "params = {\n",
    "    'seance_adjacente':1.5,\n",
    "    'seance_adjacente_2':1.2,\n",
    "    'type_favori':1.5\n",
    "}\n",
    "##### IGNORE #####\n",
    "notes = calcul_notes_coef(photographes,type_seance,**params)\n",
    "results= simulate(notes)\n",
    "df = pd.DataFrame(data={'photographe':list(results.keys()),'assignations':list(results.values())}).sort_values('photographe')\n",
    "print('Photographes')\n",
    "display(pd.DataFrame(photographes).fillna(False))\n",
    "print('Paramètres')\n",
    "display(pd.DataFrame(params,index=['coef']))\n",
    "ax=sns.barplot(y='assignations',x='photographe',data=df,palette=sns.color_palette('hls',len(notes.keys())))\n",
    "autolabel(ax, labels=df.assignations.values, height_factor=1.02)\n",
    "##################"
   ]
  },
  {
   "cell_type": "code",
   "execution_count": null,
   "metadata": {},
   "outputs": [],
   "source": []
  }
 ],
 "metadata": {
  "kernelspec": {
   "display_name": "Python 3",
   "language": "python",
   "name": "python3"
  },
  "language_info": {
   "codemirror_mode": {
    "name": "ipython",
    "version": 3
   },
   "file_extension": ".py",
   "mimetype": "text/x-python",
   "name": "python",
   "nbconvert_exporter": "python",
   "pygments_lexer": "ipython3",
   "version": "3.5.3"
  }
 },
 "nbformat": 4,
 "nbformat_minor": 1
}
